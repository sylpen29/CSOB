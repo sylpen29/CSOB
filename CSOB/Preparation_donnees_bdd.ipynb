{
 "cells": [
  {
   "cell_type": "markdown",
   "id": "36e89d60",
   "metadata": {},
   "source": [
    "# Première analyse du jeu de données"
   ]
  },
  {
   "cell_type": "markdown",
   "id": "1f1499c3",
   "metadata": {},
   "source": [
    "## Importaiton des librairies"
   ]
  },
  {
   "cell_type": "code",
   "execution_count": 1,
   "id": "1b32124d",
   "metadata": {},
   "outputs": [],
   "source": [
    "import pandas as pd\n",
    "import numpy as np\n",
    "import matplotlib.pyplot as plt\n",
    "from connexion import *"
   ]
  },
  {
   "cell_type": "markdown",
   "id": "d4e13d98",
   "metadata": {},
   "source": [
    "## Création du MCD à l'aide de MOCODO"
   ]
  },
  {
   "cell_type": "code",
   "execution_count": 2,
   "id": "245e1b9d",
   "metadata": {},
   "outputs": [],
   "source": [
    "%reload_ext mocodo_magic"
   ]
  },
  {
   "cell_type": "code",
   "execution_count": 3,
   "id": "f9ac7b0c",
   "metadata": {},
   "outputs": [
    {
     "data": {
      "image/svg+xml": [
       "<svg xmlns=\"http://www.w3.org/2000/svg\" xmlns:link=\"http://www.w3.org/1999/xlink\" width=\"620\" height=\"528\" view_box=\"0 0 620 528\">\\n\\n<desc>Généré par Mocodo 2.3.9 le Mon, 21 Mar 2022 16:14:09</desc>\n",
       "\n",
       "<rect id=\"frame\" x=\"0\" y=\"0\" width=\"620\" height=\"528\" fill=\"none\" stroke=\"none\" stroke-width=\"0\"/>\n",
       "\n",
       "<!-- Association Paru -->\n",
       "<line x1=\"335\" y1=\"39\" x2=\"335\" y2=\"122\" stroke=\"#726f83\" stroke-width=\"1\"/>\n",
       "<text x=\"340.0\" y=\"85\" fill=\"#726f83\" font-family=\"Futura\" font-size=\"11\">1,N</text>\n",
       "<line x1=\"335\" y1=\"256\" x2=\"335\" y2=\"122\" stroke=\"#726f83\" stroke-width=\"1\"/>\n",
       "<text x=\"340.0\" y=\"167\" fill=\"#726f83\" font-family=\"Futura\" font-size=\"11\">1,1</text>\n",
       "<g id=\"association-Paru\">\n",
       "\t<path d=\"M 351 93 a 14 14 90 0 1 14 14 V 121 h -60 V 107 a 14 14 90 0 1 14 -14\" fill=\"#b2bba4\" stroke=\"#b2bba4\" stroke-width=\"0\"/>\n",
       "\t<path d=\"M 365 121.0 v 16 a 14 14 90 0 1 -14 14 H 319 a 14 14 90 0 1 -14 -14 V 121.0 H 60\" fill=\"#ccd6ba\" stroke=\"#ccd6ba\" stroke-width=\"0\"/>\n",
       "\t<rect x=\"305\" y=\"93\" width=\"60\" height=\"58\" fill=\"none\" rx=\"14\" stroke=\"#85956b\" stroke-width=\"1.5\"/>\n",
       "\t<line x1=\"305\" y1=\"121\" x2=\"365\" y2=\"121\" stroke=\"#85956b\" stroke-width=\"1.5\"/>\n",
       "\t<text x=\"312\" y=\"114.3\" fill=\"#27360c\" font-family=\"Copperplate\" font-size=\"18\">Paru</text>\n",
       "</g>\n",
       "\n",
       "<!-- Association Executer -->\n",
       "<line x1=\"61\" y1=\"256\" x2=\"192\" y2=\"256\" stroke=\"#726f83\" stroke-width=\"1\"/>\n",
       "<text x=\"118\" y=\"272.0\" fill=\"#726f83\" font-family=\"Futura\" font-size=\"11\">1,N</text>\n",
       "<line x1=\"335\" y1=\"256\" x2=\"192\" y2=\"256\" stroke=\"#726f83\" stroke-width=\"1\"/>\n",
       "<text x=\"248\" y=\"272.0\" fill=\"#726f83\" font-family=\"Futura\" font-size=\"11\">1,1</text>\n",
       "<g id=\"association-Executer\">\n",
       "\t<path d=\"M 228 227 a 14 14 90 0 1 14 14 V 255 h -100 V 241 a 14 14 90 0 1 14 -14\" fill=\"#b2bba4\" stroke=\"#b2bba4\" stroke-width=\"0\"/>\n",
       "\t<path d=\"M 242 255.0 v 16 a 14 14 90 0 1 -14 14 H 156 a 14 14 90 0 1 -14 -14 V 255.0 H 100\" fill=\"#ccd6ba\" stroke=\"#ccd6ba\" stroke-width=\"0\"/>\n",
       "\t<rect x=\"142\" y=\"227\" width=\"100\" height=\"58\" fill=\"none\" rx=\"14\" stroke=\"#85956b\" stroke-width=\"1.5\"/>\n",
       "\t<line x1=\"142\" y1=\"255\" x2=\"242\" y2=\"255\" stroke=\"#85956b\" stroke-width=\"1.5\"/>\n",
       "\t<text x=\"149\" y=\"248.3\" fill=\"#27360c\" font-family=\"Copperplate\" font-size=\"18\">Executer</text>\n",
       "</g>\n",
       "\n",
       "<!-- Association Avoir -->\n",
       "<line x1=\"335\" y1=\"256\" x2=\"461\" y2=\"256\" stroke=\"#726f83\" stroke-width=\"1\"/>\n",
       "<text x=\"404\" y=\"272.0\" fill=\"#726f83\" font-family=\"Futura\" font-size=\"11\">1,1</text>\n",
       "<line x1=\"567\" y1=\"256\" x2=\"461\" y2=\"256\" stroke=\"#726f83\" stroke-width=\"1\"/>\n",
       "<text x=\"499\" y=\"272.0\" fill=\"#726f83\" font-family=\"Futura\" font-size=\"11\">1,N</text>\n",
       "<g id=\"association-Avoir\">\n",
       "\t<path d=\"M 480 227 a 14 14 90 0 1 14 14 V 255 h -66 V 241 a 14 14 90 0 1 14 -14\" fill=\"#b2bba4\" stroke=\"#b2bba4\" stroke-width=\"0\"/>\n",
       "\t<path d=\"M 494 255.0 v 16 a 14 14 90 0 1 -14 14 H 442 a 14 14 90 0 1 -14 -14 V 255.0 H 66\" fill=\"#ccd6ba\" stroke=\"#ccd6ba\" stroke-width=\"0\"/>\n",
       "\t<rect x=\"428\" y=\"227\" width=\"66\" height=\"58\" fill=\"none\" rx=\"14\" stroke=\"#85956b\" stroke-width=\"1.5\"/>\n",
       "\t<line x1=\"428\" y1=\"255\" x2=\"494\" y2=\"255\" stroke=\"#85956b\" stroke-width=\"1.5\"/>\n",
       "\t<text x=\"435\" y=\"248.3\" fill=\"#27360c\" font-family=\"Copperplate\" font-size=\"18\">Avoir</text>\n",
       "</g>\n",
       "\n",
       "<!-- Association Publier -->\n",
       "<line x1=\"335\" y1=\"256\" x2=\"335\" y2=\"390\" stroke=\"#726f83\" stroke-width=\"1\"/>\n",
       "<text x=\"340.0\" y=\"353\" fill=\"#726f83\" font-family=\"Futura\" font-size=\"11\">1,1</text>\n",
       "<line x1=\"335\" y1=\"481\" x2=\"335\" y2=\"390\" stroke=\"#726f83\" stroke-width=\"1\"/>\n",
       "<text x=\"340.0\" y=\"435\" fill=\"#726f83\" font-family=\"Futura\" font-size=\"11\">1,N</text>\n",
       "<g id=\"association-Publier\">\n",
       "\t<path d=\"M 365 361 a 14 14 90 0 1 14 14 V 389 h -88 V 375 a 14 14 90 0 1 14 -14\" fill=\"#b2bba4\" stroke=\"#b2bba4\" stroke-width=\"0\"/>\n",
       "\t<path d=\"M 379 389.0 v 16 a 14 14 90 0 1 -14 14 H 305 a 14 14 90 0 1 -14 -14 V 389.0 H 88\" fill=\"#ccd6ba\" stroke=\"#ccd6ba\" stroke-width=\"0\"/>\n",
       "\t<rect x=\"291\" y=\"361\" width=\"88\" height=\"58\" fill=\"none\" rx=\"14\" stroke=\"#85956b\" stroke-width=\"1.5\"/>\n",
       "\t<line x1=\"291\" y1=\"389\" x2=\"379\" y2=\"389\" stroke=\"#85956b\" stroke-width=\"1.5\"/>\n",
       "\t<text x=\"298\" y=\"382.3\" fill=\"#27360c\" font-family=\"Copperplate\" font-size=\"18\">Publier</text>\n",
       "</g>\n",
       "\n",
       "<!-- Entity Calendrier -->\n",
       "<g id=\"entity-Calendrier\">\n",
       "\t<g id=\"frame-Calendrier\">\n",
       "\t\t<rect x=\"274\" y=\"9\" width=\"122\" height=\"30\" fill=\"#97b8ff\" stroke=\"#97b8ff\" stroke-width=\"0\"/>\n",
       "\t\t<rect x=\"274\" y=\"39.0\" width=\"122\" height=\"30\" fill=\"#c0d4ff\" stroke=\"#c0d4ff\" stroke-width=\"0\"/>\n",
       "\t\t<rect x=\"274\" y=\"9\" width=\"122\" height=\"60\" fill=\"none\" stroke=\"#578dff\" stroke-width=\"1.5\"/>\n",
       "\t\t<line x1=\"274\" y1=\"39\" x2=\"396\" y2=\"39\" stroke=\"#578dff\" stroke-width=\"1.5\"/>\n",
       "\t</g>\n",
       "\t<text x=\"282\" y=\"30.3\" fill=\"#131114\" font-family=\"Copperplate\" font-size=\"18\">Calendrier</text>\n",
       "\t<text x=\"282\" y=\"56.1\" fill=\"#3e3c42\" font-family=\"Gill Sans\" font-size=\"15\">id_calendrier</text>\n",
       "\t<line x1=\"282\" y1=\"59\" x2=\"365\" y2=\"59\" stroke=\"#3e3c42\" stroke-width=\"1\"/>\n",
       "</g>\n",
       "\n",
       "<!-- Entity Consoles -->\n",
       "<g id=\"entity-Consoles\">\n",
       "\t<g id=\"frame-Consoles\">\n",
       "\t\t<rect x=\"9\" y=\"218\" width=\"104\" height=\"30\" fill=\"#97b8ff\" stroke=\"#97b8ff\" stroke-width=\"0\"/>\n",
       "\t\t<rect x=\"9\" y=\"248.0\" width=\"104\" height=\"46\" fill=\"#c0d4ff\" stroke=\"#c0d4ff\" stroke-width=\"0\"/>\n",
       "\t\t<rect x=\"9\" y=\"218\" width=\"104\" height=\"76\" fill=\"none\" stroke=\"#578dff\" stroke-width=\"1.5\"/>\n",
       "\t\t<line x1=\"9\" y1=\"248\" x2=\"113\" y2=\"248\" stroke=\"#578dff\" stroke-width=\"1.5\"/>\n",
       "\t</g>\n",
       "\t<text x=\"17\" y=\"239.3\" fill=\"#131114\" font-family=\"Copperplate\" font-size=\"18\">Consoles</text>\n",
       "\t<text x=\"17\" y=\"265.1\" fill=\"#3e3c42\" font-family=\"Gill Sans\" font-size=\"15\">id_console</text>\n",
       "\t<line x1=\"17\" y1=\"268\" x2=\"85\" y2=\"268\" stroke=\"#3e3c42\" stroke-width=\"1\"/>\n",
       "\t<text x=\"17\" y=\"282.1\" fill=\"#3e3c42\" font-family=\"Gill Sans\" font-size=\"15\">nom_console</text>\n",
       "</g>\n",
       "\n",
       "<!-- Entity Jeux -->\n",
       "<g id=\"entity-Jeux\">\n",
       "\t<g id=\"frame-Jeux\">\n",
       "\t\t<rect x=\"271\" y=\"175\" width=\"128\" height=\"30\" fill=\"#97b8ff\" stroke=\"#97b8ff\" stroke-width=\"0\"/>\n",
       "\t\t<rect x=\"271\" y=\"205.0\" width=\"128\" height=\"132\" fill=\"#c0d4ff\" stroke=\"#c0d4ff\" stroke-width=\"0\"/>\n",
       "\t\t<rect x=\"271\" y=\"175\" width=\"128\" height=\"162\" fill=\"none\" stroke=\"#578dff\" stroke-width=\"1.5\"/>\n",
       "\t\t<line x1=\"271\" y1=\"205\" x2=\"399\" y2=\"205\" stroke=\"#578dff\" stroke-width=\"1.5\"/>\n",
       "\t</g>\n",
       "\t<text x=\"314\" y=\"196.3\" fill=\"#131114\" font-family=\"Copperplate\" font-size=\"18\">Jeux</text>\n",
       "\t<text x=\"279\" y=\"222.0\" fill=\"#3e3c42\" font-family=\"Gill Sans\" font-size=\"15\">id_jeu</text>\n",
       "\t<line x1=\"279\" y1=\"225\" x2=\"318\" y2=\"225\" stroke=\"#3e3c42\" stroke-width=\"1\"/>\n",
       "\t<text x=\"279\" y=\"239.1\" fill=\"#3e3c42\" font-family=\"Gill Sans\" font-size=\"15\">nom_jeu</text>\n",
       "\t<text x=\"279\" y=\"256.1\" fill=\"#3e3c42\" font-family=\"Gill Sans\" font-size=\"15\">NA_vente_jeu</text>\n",
       "\t<text x=\"279\" y=\"273.1\" fill=\"#3e3c42\" font-family=\"Gill Sans\" font-size=\"15\">EU_vente_jeu</text>\n",
       "\t<text x=\"279\" y=\"290.0\" fill=\"#3e3c42\" font-family=\"Gill Sans\" font-size=\"15\">JP_vente_jeu</text>\n",
       "\t<text x=\"279\" y=\"307.0\" fill=\"#3e3c42\" font-family=\"Gill Sans\" font-size=\"15\">Autre_vente_jeu</text>\n",
       "\t<text x=\"279\" y=\"324.0\" fill=\"#3e3c42\" font-family=\"Gill Sans\" font-size=\"15\">Global_vente_jeu</text>\n",
       "</g>\n",
       "\n",
       "<!-- Entity Genres -->\n",
       "<g id=\"entity-Genres\">\n",
       "\t<g id=\"frame-Genres\">\n",
       "\t\t<rect x=\"523\" y=\"218\" width=\"88\" height=\"30\" fill=\"#97b8ff\" stroke=\"#97b8ff\" stroke-width=\"0\"/>\n",
       "\t\t<rect x=\"523\" y=\"248.0\" width=\"88\" height=\"46\" fill=\"#c0d4ff\" stroke=\"#c0d4ff\" stroke-width=\"0\"/>\n",
       "\t\t<rect x=\"523\" y=\"218\" width=\"88\" height=\"76\" fill=\"none\" stroke=\"#578dff\" stroke-width=\"1.5\"/>\n",
       "\t\t<line x1=\"523\" y1=\"248\" x2=\"611\" y2=\"248\" stroke=\"#578dff\" stroke-width=\"1.5\"/>\n",
       "\t</g>\n",
       "\t<text x=\"533\" y=\"239.3\" fill=\"#131114\" font-family=\"Copperplate\" font-size=\"18\">Genres</text>\n",
       "\t<text x=\"531\" y=\"265.1\" fill=\"#3e3c42\" font-family=\"Gill Sans\" font-size=\"15\">id_genre</text>\n",
       "\t<line x1=\"531\" y1=\"268\" x2=\"587\" y2=\"268\" stroke=\"#3e3c42\" stroke-width=\"1\"/>\n",
       "\t<text x=\"531\" y=\"282.1\" fill=\"#3e3c42\" font-family=\"Gill Sans\" font-size=\"15\">nom_genre</text>\n",
       "</g>\n",
       "\n",
       "<!-- Entity Editeurs -->\n",
       "<g id=\"entity-Editeurs\">\n",
       "\t<g id=\"frame-Editeurs\">\n",
       "\t\t<rect x=\"286\" y=\"443\" width=\"98\" height=\"30\" fill=\"#97b8ff\" stroke=\"#97b8ff\" stroke-width=\"0\"/>\n",
       "\t\t<rect x=\"286\" y=\"473.0\" width=\"98\" height=\"46\" fill=\"#c0d4ff\" stroke=\"#c0d4ff\" stroke-width=\"0\"/>\n",
       "\t\t<rect x=\"286\" y=\"443\" width=\"98\" height=\"76\" fill=\"none\" stroke=\"#578dff\" stroke-width=\"1.5\"/>\n",
       "\t\t<line x1=\"286\" y1=\"473\" x2=\"384\" y2=\"473\" stroke=\"#578dff\" stroke-width=\"1.5\"/>\n",
       "\t</g>\n",
       "\t<text x=\"294\" y=\"464.3\" fill=\"#131114\" font-family=\"Copperplate\" font-size=\"18\">Editeurs</text>\n",
       "\t<text x=\"294\" y=\"490.1\" fill=\"#3e3c42\" font-family=\"Gill Sans\" font-size=\"15\">id_editeur</text>\n",
       "\t<line x1=\"294\" y1=\"493\" x2=\"359\" y2=\"493\" stroke=\"#3e3c42\" stroke-width=\"1\"/>\n",
       "\t<text x=\"294\" y=\"507.1\" fill=\"#3e3c42\" font-family=\"Gill Sans\" font-size=\"15\">nom_editeur</text>\n",
       "</g>\n",
       "</svg>"
      ],
      "text/plain": [
       "<IPython.core.display.SVG object>"
      ]
     },
     "metadata": {},
     "output_type": "display_data"
    },
    {
     "data": {
      "text/html": [
       "<html>\r\n",
       "<head>\r\n",
       "<meta charset='utf-8'>\r\n",
       "<style>\r\n",
       "  #mld .relation { font-variant: small-caps; font-weight: bold }\r\n",
       "  #mld .primary { text-decoration: underline }\r\n",
       "  #mld .foreign { font-style: oblique }\r\n",
       "  #mld .normal { }\r\n",
       "</style>\r\n",
       "</head>\r\n",
       "<body>\r\n",
       "<div id='mld'>\r\n",
       "<!--\r\n",
       "<div>\r\n",
       "  <span class='relation'>Calendrier</span> (\r\n",
       "    <span class='primary'>id_calendrier</span>\r\n",
       "  )\r\n",
       "</div>\r\n",
       "-->\r\n",
       "<div>\r\n",
       "  <span class='relation'>Consoles</span> (\r\n",
       "    <span class='primary'>id_console</span>,\r\n",
       "    <span class='normal'>nom_console</span>\r\n",
       "  )\r\n",
       "</div>\r\n",
       "<div>\r\n",
       "  <span class='relation'>Jeux</span> (\r\n",
       "    <span class='primary'>id_jeu</span>,\r\n",
       "    <span class='normal'>nom_jeu</span>,\r\n",
       "    <span class='normal'>NA_vente_jeu</span>,\r\n",
       "    <span class='normal'>EU_vente_jeu</span>,\r\n",
       "    <span class='normal'>JP_vente_jeu</span>,\r\n",
       "    <span class='normal'>Autre_vente_jeu</span>,\r\n",
       "    <span class='normal'>Global_vente_jeu</span>,\r\n",
       "    <span class='foreign'>id_calendrier</span>,\r\n",
       "    <span class='foreign'>id_console</span>,\r\n",
       "    <span class='foreign'>id_genre</span>,\r\n",
       "    <span class='foreign'>id_editeur</span>\r\n",
       "  )\r\n",
       "</div>\r\n",
       "<div>\r\n",
       "  <span class='relation'>Genres</span> (\r\n",
       "    <span class='primary'>id_genre</span>,\r\n",
       "    <span class='normal'>nom_genre</span>\r\n",
       "  )\r\n",
       "</div>\r\n",
       "<div>\r\n",
       "  <span class='relation'>Editeurs</span> (\r\n",
       "    <span class='primary'>id_editeur</span>,\r\n",
       "    <span class='normal'>nom_editeur</span>\r\n",
       "  )\r\n",
       "</div>\r\n",
       "</div>\r\n",
       "</body>\r\n",
       "</html>"
      ],
      "text/plain": [
       "<IPython.core.display.HTML object>"
      ]
     },
     "metadata": {},
     "output_type": "display_data"
    }
   ],
   "source": [
    "%%mocodo --mld --colors ocean --shapes copperplate --title=vente_jeux --relations=mysql\n",
    ":\n",
    ":\n",
    "Calendrier: id_calendrier [DATE NOT NULL]\n",
    ":\n",
    ":\n",
    "\n",
    "::\n",
    "Paru, 1N Calendrier, 11 Jeux\n",
    "::\n",
    "\n",
    "Consoles : id_console [INT NOT NULL], nom_console [VARCHAR(100) NOT NULL]\n",
    "Executer, 1N Consoles, 11 Jeux\n",
    "Jeux : id_jeu [INT NOT NULL], nom_jeu [VARCHAR(200) NOT NULL], NA_vente_jeu [FLOAT], EU_vente_jeu [FLOAT], JP_vente_jeu [FLOAT], Autre_vente_jeu [FLOAT], Global_vente_jeu [FLOAT]\n",
    "Avoir, 11 Jeux, 1N Genres\n",
    "Genres: id_genre [INT NOT NULL], nom_genre [VARCHAR(100)]\n",
    "\n",
    "::\n",
    "Publier, 11 Jeux, 1N Editeurs\n",
    "::\n",
    "\n",
    "::\n",
    "Editeurs : id_editeur [INT], nom_editeur [VARCHAR(100)]\n",
    "::"
   ]
  },
  {
   "cell_type": "markdown",
   "id": "4f4cd304",
   "metadata": {},
   "source": [
    "## Visulalisation du fichier sql généré par mocodo"
   ]
  },
  {
   "cell_type": "code",
   "execution_count": 4,
   "id": "1312d0cc",
   "metadata": {},
   "outputs": [],
   "source": [
    "# %load mocodo_notebook/sandbox_mysql.sql\n",
    "CREATE DATABASE IF NOT EXISTS `VENTE_JEUX` DEFAULT CHARACTER SET utf8 COLLATE utf8_general_ci;\n",
    "USE `VENTE_JEUX`;\n",
    "\n",
    "/*\n",
    "CREATE TABLE `CALENDRIER` (\n",
    "  `id_calendrier` DATE NOT NULL,\n",
    "  PRIMARY KEY (`id_calendrier`)\n",
    ") ENGINE=InnoDB DEFAULT CHARSET=utf8;\n",
    "*/\n",
    "\n",
    "CREATE TABLE `CONSOLES` (\n",
    "  `id_console` INT NOT NULL,\n",
    "  `nom_console` VARCHAR(100) NOT NULL,\n",
    "  PRIMARY KEY (`id_console`)\n",
    ") ENGINE=InnoDB DEFAULT CHARSET=utf8;\n",
    "\n",
    "CREATE TABLE `JEUX` (\n",
    "  `id_jeu` INT NOT NULL,\n",
    "  `nom_jeu` VARCHAR(200) NOT NULL,\n",
    "  `na_vente_jeu` FLOAT,\n",
    "  `eu_vente_jeu` FLOAT,\n",
    "  `jp_vente_jeu` FLOAT,\n",
    "  `autre_vente_jeu` FLOAT,\n",
    "  `global_vente_jeu` FLOAT,\n",
    "  `id_calendrier` DATE NOT NULL,\n",
    "  `id_console` INT NOT NULL,\n",
    "  `id_genre` INT NOT NULL,\n",
    "  `id_editeur` INT,\n",
    "  PRIMARY KEY (`id_jeu`)\n",
    ") ENGINE=InnoDB DEFAULT CHARSET=utf8;\n",
    "\n",
    "CREATE TABLE `GENRES` (\n",
    "  `id_genre` INT NOT NULL,\n",
    "  `nom_genre` VARCHAR(100),\n",
    "  PRIMARY KEY (`id_genre`)\n",
    ") ENGINE=InnoDB DEFAULT CHARSET=utf8;\n",
    "\n",
    "CREATE TABLE `EDITEURS` (\n",
    "  `id_editeur` INT,\n",
    "  `nom_editeur` VARCHAR(100),\n",
    "  PRIMARY KEY (`id_editeur`)\n",
    ") ENGINE=InnoDB DEFAULT CHARSET=utf8;\n",
    "\n",
    "ALTER TABLE `JEUX` ADD FOREIGN KEY (`id_editeur`) REFERENCES `EDITEURS` (`id_editeur`);\n",
    "ALTER TABLE `JEUX` ADD FOREIGN KEY (`id_genre`) REFERENCES `GENRES` (`id_genre`);\n",
    "ALTER TABLE `JEUX` ADD FOREIGN KEY (`id_console`) REFERENCES `CONSOLES` (`id_console`);\n",
    "-- ALTER TABLE `JEUX` ADD FOREIGN KEY (`id_calendrier`) REFERENCES `CALENDRIER` (`id_calendrier`);"
   ]
  },
  {
   "cell_type": "markdown",
   "id": "bac54faa",
   "metadata": {},
   "source": [
    "Mocodo a permis de générer le code SQL pour la création de la base proposé et l'a stocké dans un fichier au format \"*.sql*\". Cependant on remarque que certaines commande sont commentées. Il a donc été nécéssaire de retravailler le fichier manuellement pour permettre la création de la table __*calendrier*__ qui ne possède uniquement une colonne id. Les commandes de création de clefs étrangères ont quant-à elles commenter pour éviter tout problème lors du chargment des données. "
   ]
  },
  {
   "cell_type": "markdown",
   "id": "a236d3b6",
   "metadata": {},
   "source": [
    "## Création de la base de donnée"
   ]
  },
  {
   "cell_type": "code",
   "execution_count": 5,
   "id": "05e36125",
   "metadata": {},
   "outputs": [],
   "source": [
    "nom_bdd = \"vente_jeux\" # nom de la base de donnée\n",
    "fichier_creation = \"./mocodo_notebook/sandbox_mysql.sql\" # fichier sql avec chemin relatif"
   ]
  },
  {
   "cell_type": "code",
   "execution_count": 6,
   "id": "387f3ec1",
   "metadata": {},
   "outputs": [],
   "source": [
    "Connexion.ouvrir()\n",
    "Connexion.drop_db(nom_bdd)\n",
    "Connexion.fermer()"
   ]
  },
  {
   "cell_type": "code",
   "execution_count": 7,
   "id": "61076b7b",
   "metadata": {},
   "outputs": [
    {
     "name": "stdout",
     "output_type": "stream",
     "text": [
      "Running query:  CMySQLCursor: CREATE DATABASE IF NOT EXISTS `VENTE_JEU..\n",
      "Affected 1 rows\n",
      "Running query:  CMySQLCursor: USE `VENTE_JEUX`\n",
      "Affected 0 rows\n",
      "Running query:  CMySQLCursor: CREATE TABLE `CALENDRIER` (\n",
      "  `id_calend..\n",
      "Affected 0 rows\n",
      "Running query:  CMySQLCursor: CREATE TABLE `CONSOLES` (\n",
      "  `id_console`..\n",
      "Affected 0 rows\n",
      "Running query:  CMySQLCursor: CREATE TABLE `JEUX` (\n",
      "  `id_jeu` INT NOT..\n",
      "Affected 0 rows\n",
      "Running query:  CMySQLCursor: CREATE TABLE `GENRES` (\n",
      "  `id_genre` INT..\n",
      "Affected 0 rows\n",
      "Running query:  CMySQLCursor: CREATE TABLE `EDITEURS` (\n",
      "  `id_editeur`..\n",
      "Affected 0 rows\n",
      "Running query:  CMySQLCursor: -- ALTER TABLE `JEUX` ADD FOREIGN KEY (`..\n",
      "Affected 0 rows\n"
     ]
    }
   ],
   "source": [
    "Connexion.creation(nom_bdd, fichier_creation) # Connexion à MySQL"
   ]
  },
  {
   "cell_type": "markdown",
   "id": "0986bb49",
   "metadata": {},
   "source": [
    "## Chargement des données"
   ]
  },
  {
   "cell_type": "code",
   "execution_count": 2,
   "id": "98255dc6",
   "metadata": {},
   "outputs": [
    {
     "data": {
      "text/html": [
       "<div>\n",
       "<style scoped>\n",
       "    .dataframe tbody tr th:only-of-type {\n",
       "        vertical-align: middle;\n",
       "    }\n",
       "\n",
       "    .dataframe tbody tr th {\n",
       "        vertical-align: top;\n",
       "    }\n",
       "\n",
       "    .dataframe thead th {\n",
       "        text-align: right;\n",
       "    }\n",
       "</style>\n",
       "<table border=\"1\" class=\"dataframe\">\n",
       "  <thead>\n",
       "    <tr style=\"text-align: right;\">\n",
       "      <th></th>\n",
       "      <th>Rank</th>\n",
       "      <th>Name</th>\n",
       "      <th>Platform</th>\n",
       "      <th>Year</th>\n",
       "      <th>Genre</th>\n",
       "      <th>Publisher</th>\n",
       "      <th>NA_Sales</th>\n",
       "      <th>EU_Sales</th>\n",
       "      <th>JP_Sales</th>\n",
       "      <th>Other_Sales</th>\n",
       "      <th>Global_Sales</th>\n",
       "    </tr>\n",
       "  </thead>\n",
       "  <tbody>\n",
       "    <tr>\n",
       "      <th>0</th>\n",
       "      <td>1</td>\n",
       "      <td>Wii Sports</td>\n",
       "      <td>Wii</td>\n",
       "      <td>2006.0</td>\n",
       "      <td>Sports</td>\n",
       "      <td>Nintendo</td>\n",
       "      <td>41.49</td>\n",
       "      <td>29.02</td>\n",
       "      <td>3.77</td>\n",
       "      <td>8.46</td>\n",
       "      <td>82.74</td>\n",
       "    </tr>\n",
       "    <tr>\n",
       "      <th>1</th>\n",
       "      <td>2</td>\n",
       "      <td>Super Mario Bros.</td>\n",
       "      <td>NES</td>\n",
       "      <td>1985.0</td>\n",
       "      <td>Platform</td>\n",
       "      <td>Nintendo</td>\n",
       "      <td>29.08</td>\n",
       "      <td>3.58</td>\n",
       "      <td>6.81</td>\n",
       "      <td>0.77</td>\n",
       "      <td>40.24</td>\n",
       "    </tr>\n",
       "    <tr>\n",
       "      <th>2</th>\n",
       "      <td>3</td>\n",
       "      <td>Mario Kart Wii</td>\n",
       "      <td>Wii</td>\n",
       "      <td>2008.0</td>\n",
       "      <td>Racing</td>\n",
       "      <td>Nintendo</td>\n",
       "      <td>15.85</td>\n",
       "      <td>12.88</td>\n",
       "      <td>3.79</td>\n",
       "      <td>3.31</td>\n",
       "      <td>35.82</td>\n",
       "    </tr>\n",
       "    <tr>\n",
       "      <th>3</th>\n",
       "      <td>4</td>\n",
       "      <td>Wii Sports Resort</td>\n",
       "      <td>Wii</td>\n",
       "      <td>2009.0</td>\n",
       "      <td>Sports</td>\n",
       "      <td>Nintendo</td>\n",
       "      <td>15.75</td>\n",
       "      <td>11.01</td>\n",
       "      <td>3.28</td>\n",
       "      <td>2.96</td>\n",
       "      <td>33.00</td>\n",
       "    </tr>\n",
       "    <tr>\n",
       "      <th>4</th>\n",
       "      <td>5</td>\n",
       "      <td>Pokemon Red/Pokemon Blue</td>\n",
       "      <td>GB</td>\n",
       "      <td>1996.0</td>\n",
       "      <td>Role-Playing</td>\n",
       "      <td>Nintendo</td>\n",
       "      <td>11.27</td>\n",
       "      <td>8.89</td>\n",
       "      <td>10.22</td>\n",
       "      <td>1.00</td>\n",
       "      <td>31.37</td>\n",
       "    </tr>\n",
       "  </tbody>\n",
       "</table>\n",
       "</div>"
      ],
      "text/plain": [
       "   Rank                      Name Platform    Year         Genre Publisher  \\\n",
       "0     1                Wii Sports      Wii  2006.0        Sports  Nintendo   \n",
       "1     2         Super Mario Bros.      NES  1985.0      Platform  Nintendo   \n",
       "2     3            Mario Kart Wii      Wii  2008.0        Racing  Nintendo   \n",
       "3     4         Wii Sports Resort      Wii  2009.0        Sports  Nintendo   \n",
       "4     5  Pokemon Red/Pokemon Blue       GB  1996.0  Role-Playing  Nintendo   \n",
       "\n",
       "   NA_Sales  EU_Sales  JP_Sales  Other_Sales  Global_Sales  \n",
       "0     41.49     29.02      3.77         8.46         82.74  \n",
       "1     29.08      3.58      6.81         0.77         40.24  \n",
       "2     15.85     12.88      3.79         3.31         35.82  \n",
       "3     15.75     11.01      3.28         2.96         33.00  \n",
       "4     11.27      8.89     10.22         1.00         31.37  "
      ]
     },
     "execution_count": 2,
     "metadata": {},
     "output_type": "execute_result"
    }
   ],
   "source": [
    "data = pd.read_csv(\"./vgsales.csv\") # Chargement du fichier CSV\n",
    "data.head() # affichages des 5 premières observation des datas"
   ]
  },
  {
   "cell_type": "code",
   "execution_count": 9,
   "id": "be218a37",
   "metadata": {},
   "outputs": [
    {
     "name": "stdout",
     "output_type": "stream",
     "text": [
      "<class 'pandas.core.frame.DataFrame'>\n",
      "RangeIndex: 16598 entries, 0 to 16597\n",
      "Data columns (total 11 columns):\n",
      " #   Column        Non-Null Count  Dtype  \n",
      "---  ------        --------------  -----  \n",
      " 0   Rank          16598 non-null  int64  \n",
      " 1   Name          16598 non-null  object \n",
      " 2   Platform      16598 non-null  object \n",
      " 3   Year          16327 non-null  float64\n",
      " 4   Genre         16598 non-null  object \n",
      " 5   Publisher     16540 non-null  object \n",
      " 6   NA_Sales      16598 non-null  float64\n",
      " 7   EU_Sales      16598 non-null  float64\n",
      " 8   JP_Sales      16598 non-null  float64\n",
      " 9   Other_Sales   16598 non-null  float64\n",
      " 10  Global_Sales  16598 non-null  float64\n",
      "dtypes: float64(6), int64(1), object(4)\n",
      "memory usage: 1.4+ MB\n"
     ]
    }
   ],
   "source": [
    "data.info() # information générale du DataSet"
   ]
  },
  {
   "cell_type": "code",
   "execution_count": 3,
   "id": "ed9158e7",
   "metadata": {},
   "outputs": [],
   "source": [
    "data.dropna(inplace=True) # Suppression des lignes contenant des valeurs manquantes\n",
    "data.reset_index(drop=True, inplace=True) # Re-initialisation des index du DataSet suite à la suppression de lignes"
   ]
  },
  {
   "cell_type": "code",
   "execution_count": 11,
   "id": "d5295603",
   "metadata": {},
   "outputs": [],
   "source": [
    "data[\"Year\"] = data[\"Year\"].astype(\"int\") #pd.Int32Dtype()) # conversion dtype colonne float64 en int32 (Int32Dtype prend en charge les NaN)"
   ]
  },
  {
   "cell_type": "code",
   "execution_count": 12,
   "id": "8fd91f8f",
   "metadata": {},
   "outputs": [],
   "source": [
    "jeux = data.copy() # copy du DataSet qui servira à la génération de la table \"__*jeux*__\""
   ]
  },
  {
   "cell_type": "markdown",
   "id": "8397fe63",
   "metadata": {},
   "source": [
    "## Extraction des années et formatage (AAAA-MM-DD)"
   ]
  },
  {
   "cell_type": "code",
   "execution_count": 13,
   "id": "c6848991",
   "metadata": {},
   "outputs": [
    {
     "name": "stdout",
     "output_type": "stream",
     "text": [
      "[1980 1981 1982 1983 1984 1985 1986 1987 1988 1989 1990 1991 1992 1993\n",
      " 1994 1995 1996 1997 1998 1999 2000 2001 2002 2003 2004 2005 2006 2007\n",
      " 2008 2009 2010 2011 2012 2013 2014 2015 2016 2017 2020]\n"
     ]
    }
   ],
   "source": [
    "year = np.sort(data[\"Year\"].unique()) # Récupération des valeurs uniques avec trie des valeurs\n",
    "print(year)"
   ]
  },
  {
   "cell_type": "markdown",
   "id": "f26ef655",
   "metadata": {},
   "source": [
    "### Création du fichier csv pour la bdd"
   ]
  },
  {
   "cell_type": "code",
   "execution_count": 14,
   "id": "5b3e8ea4",
   "metadata": {},
   "outputs": [],
   "source": [
    "calendrier = pd.DataFrame(year.copy().astype(\"str\"), columns=[\"year\"]) # Création du DataFrame \"calendar\" pour le formatage de la date"
   ]
  },
  {
   "cell_type": "code",
   "execution_count": 15,
   "id": "d9e82cd5",
   "metadata": {},
   "outputs": [],
   "source": [
    "calendrier[\"month\"] = \"01\" # Ajout du mois de manière arbitraire\n",
    "calendrier[\"day\"] = \"01\" # Ajout du jour de manière arbitraire"
   ]
  },
  {
   "cell_type": "code",
   "execution_count": 16,
   "id": "df5ded12",
   "metadata": {},
   "outputs": [
    {
     "name": "stdout",
     "output_type": "stream",
     "text": [
      "<class 'pandas.core.frame.DataFrame'>\n",
      "RangeIndex: 39 entries, 0 to 38\n",
      "Data columns (total 3 columns):\n",
      " #   Column  Non-Null Count  Dtype \n",
      "---  ------  --------------  ----- \n",
      " 0   year    39 non-null     object\n",
      " 1   month   39 non-null     object\n",
      " 2   day     39 non-null     object\n",
      "dtypes: object(3)\n",
      "memory usage: 1.0+ KB\n"
     ]
    }
   ],
   "source": [
    "calendrier.info() # affichage des infos du DataFrame calendar"
   ]
  },
  {
   "cell_type": "code",
   "execution_count": 17,
   "id": "b0086f6d",
   "metadata": {},
   "outputs": [],
   "source": [
    "calendrier = pd.to_datetime(calendrier).astype(\"str\").rename(\"id_calendrier\") # Formatage du calendrier au format (AAAA-MM-DD)"
   ]
  },
  {
   "cell_type": "code",
   "execution_count": 18,
   "id": "1af8fd07",
   "metadata": {},
   "outputs": [],
   "source": [
    "calendrier.to_csv(\"./CSV_2DB/annees.csv\", index=False, header=True) # Export du fichier csv, qui sera utilisé pour l'import en base de données"
   ]
  },
  {
   "cell_type": "code",
   "execution_count": 19,
   "id": "041e07a9",
   "metadata": {},
   "outputs": [
    {
     "name": "stdout",
     "output_type": "stream",
     "text": [
      "{1980: '1980-01-01', 1981: '1981-01-01', 1982: '1982-01-01', 1983: '1983-01-01', 1984: '1984-01-01', 1985: '1985-01-01', 1986: '1986-01-01', 1987: '1987-01-01', 1988: '1988-01-01', 1989: '1989-01-01', 1990: '1990-01-01', 1991: '1991-01-01', 1992: '1992-01-01', 1993: '1993-01-01', 1994: '1994-01-01', 1995: '1995-01-01', 1996: '1996-01-01', 1997: '1997-01-01', 1998: '1998-01-01', 1999: '1999-01-01', 2000: '2000-01-01', 2001: '2001-01-01', 2002: '2002-01-01', 2003: '2003-01-01', 2004: '2004-01-01', 2005: '2005-01-01', 2006: '2006-01-01', 2007: '2007-01-01', 2008: '2008-01-01', 2009: '2009-01-01', 2010: '2010-01-01', 2011: '2011-01-01', 2012: '2012-01-01', 2013: '2013-01-01', 2014: '2014-01-01', 2015: '2015-01-01', 2016: '2016-01-01', 2017: '2017-01-01', 2020: '2020-01-01'}\n"
     ]
    }
   ],
   "source": [
    "year_kv = dict((k, v) for v, k in zip(calendrier, year)) # Création d'un dictionnaire permettant de remplacer les dates initiale (key) par le nouveau format (value)\n",
    "print(year_kv)"
   ]
  },
  {
   "cell_type": "code",
   "execution_count": 20,
   "id": "ed1e272e",
   "metadata": {},
   "outputs": [
    {
     "data": {
      "text/html": [
       "<div>\n",
       "<style scoped>\n",
       "    .dataframe tbody tr th:only-of-type {\n",
       "        vertical-align: middle;\n",
       "    }\n",
       "\n",
       "    .dataframe tbody tr th {\n",
       "        vertical-align: top;\n",
       "    }\n",
       "\n",
       "    .dataframe thead th {\n",
       "        text-align: right;\n",
       "    }\n",
       "</style>\n",
       "<table border=\"1\" class=\"dataframe\">\n",
       "  <thead>\n",
       "    <tr style=\"text-align: right;\">\n",
       "      <th></th>\n",
       "      <th>Rank</th>\n",
       "      <th>Name</th>\n",
       "      <th>Platform</th>\n",
       "      <th>Year</th>\n",
       "      <th>Genre</th>\n",
       "      <th>Publisher</th>\n",
       "      <th>NA_Sales</th>\n",
       "      <th>EU_Sales</th>\n",
       "      <th>JP_Sales</th>\n",
       "      <th>Other_Sales</th>\n",
       "      <th>Global_Sales</th>\n",
       "    </tr>\n",
       "  </thead>\n",
       "  <tbody>\n",
       "    <tr>\n",
       "      <th>0</th>\n",
       "      <td>1</td>\n",
       "      <td>Wii Sports</td>\n",
       "      <td>Wii</td>\n",
       "      <td>2006-01-01</td>\n",
       "      <td>Sports</td>\n",
       "      <td>Nintendo</td>\n",
       "      <td>41.49</td>\n",
       "      <td>29.02</td>\n",
       "      <td>3.77</td>\n",
       "      <td>8.46</td>\n",
       "      <td>82.74</td>\n",
       "    </tr>\n",
       "    <tr>\n",
       "      <th>1</th>\n",
       "      <td>2</td>\n",
       "      <td>Super Mario Bros.</td>\n",
       "      <td>NES</td>\n",
       "      <td>1985-01-01</td>\n",
       "      <td>Platform</td>\n",
       "      <td>Nintendo</td>\n",
       "      <td>29.08</td>\n",
       "      <td>3.58</td>\n",
       "      <td>6.81</td>\n",
       "      <td>0.77</td>\n",
       "      <td>40.24</td>\n",
       "    </tr>\n",
       "    <tr>\n",
       "      <th>2</th>\n",
       "      <td>3</td>\n",
       "      <td>Mario Kart Wii</td>\n",
       "      <td>Wii</td>\n",
       "      <td>2008-01-01</td>\n",
       "      <td>Racing</td>\n",
       "      <td>Nintendo</td>\n",
       "      <td>15.85</td>\n",
       "      <td>12.88</td>\n",
       "      <td>3.79</td>\n",
       "      <td>3.31</td>\n",
       "      <td>35.82</td>\n",
       "    </tr>\n",
       "    <tr>\n",
       "      <th>3</th>\n",
       "      <td>4</td>\n",
       "      <td>Wii Sports Resort</td>\n",
       "      <td>Wii</td>\n",
       "      <td>2009-01-01</td>\n",
       "      <td>Sports</td>\n",
       "      <td>Nintendo</td>\n",
       "      <td>15.75</td>\n",
       "      <td>11.01</td>\n",
       "      <td>3.28</td>\n",
       "      <td>2.96</td>\n",
       "      <td>33.00</td>\n",
       "    </tr>\n",
       "    <tr>\n",
       "      <th>4</th>\n",
       "      <td>5</td>\n",
       "      <td>Pokemon Red/Pokemon Blue</td>\n",
       "      <td>GB</td>\n",
       "      <td>1996-01-01</td>\n",
       "      <td>Role-Playing</td>\n",
       "      <td>Nintendo</td>\n",
       "      <td>11.27</td>\n",
       "      <td>8.89</td>\n",
       "      <td>10.22</td>\n",
       "      <td>1.00</td>\n",
       "      <td>31.37</td>\n",
       "    </tr>\n",
       "    <tr>\n",
       "      <th>...</th>\n",
       "      <td>...</td>\n",
       "      <td>...</td>\n",
       "      <td>...</td>\n",
       "      <td>...</td>\n",
       "      <td>...</td>\n",
       "      <td>...</td>\n",
       "      <td>...</td>\n",
       "      <td>...</td>\n",
       "      <td>...</td>\n",
       "      <td>...</td>\n",
       "      <td>...</td>\n",
       "    </tr>\n",
       "    <tr>\n",
       "      <th>16286</th>\n",
       "      <td>16596</td>\n",
       "      <td>Woody Woodpecker in Crazy Castle 5</td>\n",
       "      <td>GBA</td>\n",
       "      <td>2002-01-01</td>\n",
       "      <td>Platform</td>\n",
       "      <td>Kemco</td>\n",
       "      <td>0.01</td>\n",
       "      <td>0.00</td>\n",
       "      <td>0.00</td>\n",
       "      <td>0.00</td>\n",
       "      <td>0.01</td>\n",
       "    </tr>\n",
       "    <tr>\n",
       "      <th>16287</th>\n",
       "      <td>16597</td>\n",
       "      <td>Men in Black II: Alien Escape</td>\n",
       "      <td>GC</td>\n",
       "      <td>2003-01-01</td>\n",
       "      <td>Shooter</td>\n",
       "      <td>Infogrames</td>\n",
       "      <td>0.01</td>\n",
       "      <td>0.00</td>\n",
       "      <td>0.00</td>\n",
       "      <td>0.00</td>\n",
       "      <td>0.01</td>\n",
       "    </tr>\n",
       "    <tr>\n",
       "      <th>16288</th>\n",
       "      <td>16598</td>\n",
       "      <td>SCORE International Baja 1000: The Official Game</td>\n",
       "      <td>PS2</td>\n",
       "      <td>2008-01-01</td>\n",
       "      <td>Racing</td>\n",
       "      <td>Activision</td>\n",
       "      <td>0.00</td>\n",
       "      <td>0.00</td>\n",
       "      <td>0.00</td>\n",
       "      <td>0.00</td>\n",
       "      <td>0.01</td>\n",
       "    </tr>\n",
       "    <tr>\n",
       "      <th>16289</th>\n",
       "      <td>16599</td>\n",
       "      <td>Know How 2</td>\n",
       "      <td>DS</td>\n",
       "      <td>2010-01-01</td>\n",
       "      <td>Puzzle</td>\n",
       "      <td>7G//AMES</td>\n",
       "      <td>0.00</td>\n",
       "      <td>0.01</td>\n",
       "      <td>0.00</td>\n",
       "      <td>0.00</td>\n",
       "      <td>0.01</td>\n",
       "    </tr>\n",
       "    <tr>\n",
       "      <th>16290</th>\n",
       "      <td>16600</td>\n",
       "      <td>Spirits &amp; Spells</td>\n",
       "      <td>GBA</td>\n",
       "      <td>2003-01-01</td>\n",
       "      <td>Platform</td>\n",
       "      <td>Wanadoo</td>\n",
       "      <td>0.01</td>\n",
       "      <td>0.00</td>\n",
       "      <td>0.00</td>\n",
       "      <td>0.00</td>\n",
       "      <td>0.01</td>\n",
       "    </tr>\n",
       "  </tbody>\n",
       "</table>\n",
       "<p>16291 rows × 11 columns</p>\n",
       "</div>"
      ],
      "text/plain": [
       "        Rank                                              Name Platform  \\\n",
       "0          1                                        Wii Sports      Wii   \n",
       "1          2                                 Super Mario Bros.      NES   \n",
       "2          3                                    Mario Kart Wii      Wii   \n",
       "3          4                                 Wii Sports Resort      Wii   \n",
       "4          5                          Pokemon Red/Pokemon Blue       GB   \n",
       "...      ...                                               ...      ...   \n",
       "16286  16596                Woody Woodpecker in Crazy Castle 5      GBA   \n",
       "16287  16597                     Men in Black II: Alien Escape       GC   \n",
       "16288  16598  SCORE International Baja 1000: The Official Game      PS2   \n",
       "16289  16599                                        Know How 2       DS   \n",
       "16290  16600                                  Spirits & Spells      GBA   \n",
       "\n",
       "             Year         Genre   Publisher  NA_Sales  EU_Sales  JP_Sales  \\\n",
       "0      2006-01-01        Sports    Nintendo     41.49     29.02      3.77   \n",
       "1      1985-01-01      Platform    Nintendo     29.08      3.58      6.81   \n",
       "2      2008-01-01        Racing    Nintendo     15.85     12.88      3.79   \n",
       "3      2009-01-01        Sports    Nintendo     15.75     11.01      3.28   \n",
       "4      1996-01-01  Role-Playing    Nintendo     11.27      8.89     10.22   \n",
       "...           ...           ...         ...       ...       ...       ...   \n",
       "16286  2002-01-01      Platform       Kemco      0.01      0.00      0.00   \n",
       "16287  2003-01-01       Shooter  Infogrames      0.01      0.00      0.00   \n",
       "16288  2008-01-01        Racing  Activision      0.00      0.00      0.00   \n",
       "16289  2010-01-01        Puzzle    7G//AMES      0.00      0.01      0.00   \n",
       "16290  2003-01-01      Platform     Wanadoo      0.01      0.00      0.00   \n",
       "\n",
       "       Other_Sales  Global_Sales  \n",
       "0             8.46         82.74  \n",
       "1             0.77         40.24  \n",
       "2             3.31         35.82  \n",
       "3             2.96         33.00  \n",
       "4             1.00         31.37  \n",
       "...            ...           ...  \n",
       "16286         0.00          0.01  \n",
       "16287         0.00          0.01  \n",
       "16288         0.00          0.01  \n",
       "16289         0.00          0.01  \n",
       "16290         0.00          0.01  \n",
       "\n",
       "[16291 rows x 11 columns]"
      ]
     },
     "execution_count": 20,
     "metadata": {},
     "output_type": "execute_result"
    }
   ],
   "source": [
    "jeux[\"Year\"] = jeux[\"Year\"].replace(year_kv) # Remplacement des dates par les dates formater, pour pouvoir faire le lien avec la table calendrier\n",
    "jeux # vérification du changement"
   ]
  },
  {
   "cell_type": "code",
   "execution_count": 21,
   "id": "27a27b49",
   "metadata": {},
   "outputs": [],
   "source": [
    "Connexion.ouvrir() # ouvrir la bdd\n",
    "Connexion.import_csv('./CSV_2DB/annees.csv', \"calendrier\") # import des valeurs du csv dans la bdd\n",
    "Connexion.fermer() # fermer la bdd"
   ]
  },
  {
   "cell_type": "markdown",
   "id": "dd152179",
   "metadata": {},
   "source": [
    "## Extraction \"Plateform\" vers un CSV"
   ]
  },
  {
   "cell_type": "code",
   "execution_count": 22,
   "id": "5408ac8c",
   "metadata": {},
   "outputs": [
    {
     "data": {
      "text/plain": [
       "array(['2600', '3DO', '3DS', 'DC', 'DS', 'GB', 'GBA', 'GC', 'GEN', 'GG',\n",
       "       'N64', 'NES', 'NG', 'PC', 'PCFX', 'PS', 'PS2', 'PS3', 'PS4', 'PSP',\n",
       "       'PSV', 'SAT', 'SCD', 'SNES', 'TG16', 'WS', 'Wii', 'WiiU', 'X360',\n",
       "       'XB', 'XOne'], dtype=object)"
      ]
     },
     "execution_count": 22,
     "metadata": {},
     "output_type": "execute_result"
    }
   ],
   "source": [
    "console = data[\"Platform\"].unique() # Extraction des valeurs console unique\n",
    "console = np.sort(console) # Trie des valeurs\n",
    "console"
   ]
  },
  {
   "cell_type": "code",
   "execution_count": 23,
   "id": "ecfb0125",
   "metadata": {},
   "outputs": [
    {
     "name": "stdout",
     "output_type": "stream",
     "text": [
      "{'2600': 1, '3DO': 2, '3DS': 3, 'DC': 4, 'DS': 5, 'GB': 6, 'GBA': 7, 'GC': 8, 'GEN': 9, 'GG': 10, 'N64': 11, 'NES': 12, 'NG': 13, 'PC': 14, 'PCFX': 15, 'PS': 16, 'PS2': 17, 'PS3': 18, 'PS4': 19, 'PSP': 20, 'PSV': 21, 'SAT': 22, 'SCD': 23, 'SNES': 24, 'TG16': 25, 'WS': 26, 'Wii': 27, 'WiiU': 28, 'X360': 29, 'XB': 30, 'XOne': 31}\n"
     ]
    }
   ],
   "source": [
    "console_kv = dict((k, v) for v, k in enumerate(console, 1)) # mise des données sous forme de dictionnaire\n",
    "print(console_kv)"
   ]
  },
  {
   "cell_type": "code",
   "execution_count": 24,
   "id": "81e21518",
   "metadata": {},
   "outputs": [],
   "source": [
    "jeux[\"Platform\"] = jeux[\"Platform\"].replace(console_kv) # remplacement des données platform par leu indices dans le dataframe jeux"
   ]
  },
  {
   "cell_type": "code",
   "execution_count": 25,
   "id": "e69aa433",
   "metadata": {},
   "outputs": [],
   "source": [
    "console = pd.Series(console, name=\"nom_console\") # conversion de array en Serie\n",
    "console.index += 1 # incrementation de l'index pour commencer à 1\n",
    "console.to_csv(\"./CSV_2DB/consoles.csv\", index=True, header=True) # Export de la table en csv"
   ]
  },
  {
   "cell_type": "code",
   "execution_count": 26,
   "id": "e8fa79b7",
   "metadata": {},
   "outputs": [],
   "source": [
    "Connexion.ouvrir() # ouvrir la bdd\n",
    "Connexion.import_csv('./CSV_2DB/consoles.csv', \"consoles\") # import des valeurs du csv dans la bdd\n",
    "Connexion.fermer() # fermer la bdd"
   ]
  },
  {
   "cell_type": "markdown",
   "id": "42c433d5",
   "metadata": {},
   "source": [
    "## Extraction \"Genre\" vers un CSV"
   ]
  },
  {
   "cell_type": "code",
   "execution_count": 27,
   "id": "e920fe5a",
   "metadata": {},
   "outputs": [
    {
     "data": {
      "text/plain": [
       "array(['Action', 'Adventure', 'Fighting', 'Misc', 'Platform', 'Puzzle',\n",
       "       'Racing', 'Role-Playing', 'Shooter', 'Simulation', 'Sports',\n",
       "       'Strategy'], dtype=object)"
      ]
     },
     "execution_count": 27,
     "metadata": {},
     "output_type": "execute_result"
    }
   ],
   "source": [
    "genre = data[\"Genre\"].unique() # Extraction des valeurs console unique\n",
    "genre = np.sort(genre) # Trie des valeurs\n",
    "genre"
   ]
  },
  {
   "cell_type": "code",
   "execution_count": 28,
   "id": "ca82aac9",
   "metadata": {},
   "outputs": [
    {
     "name": "stdout",
     "output_type": "stream",
     "text": [
      "{'Action': 1, 'Adventure': 2, 'Fighting': 3, 'Misc': 4, 'Platform': 5, 'Puzzle': 6, 'Racing': 7, 'Role-Playing': 8, 'Shooter': 9, 'Simulation': 10, 'Sports': 11, 'Strategy': 12}\n"
     ]
    }
   ],
   "source": [
    "genre_kv = dict((k, v) for v, k in enumerate(genre, 1)) # mise des données sous forme de dictionnaire\n",
    "print(genre_kv) # affichage des clefs valeurs"
   ]
  },
  {
   "cell_type": "code",
   "execution_count": 29,
   "id": "5916cad2",
   "metadata": {},
   "outputs": [],
   "source": [
    "jeux[\"Genre\"] = jeux[\"Genre\"].replace(genre_kv) # remplacement des données genres par leu indices dans le dataframe jeux"
   ]
  },
  {
   "cell_type": "code",
   "execution_count": 30,
   "id": "e86681dd",
   "metadata": {},
   "outputs": [],
   "source": [
    "genre = pd.Series(genre, name=\"nom_genre\") # conversion de array en Serie\n",
    "genre.index += 1 # incrementation de l'index pour commencer à 1\n",
    "genre.to_csv(\"./CSV_2DB/genres.csv\", index=True, header=True) # Export de la table en csv"
   ]
  },
  {
   "cell_type": "code",
   "execution_count": 31,
   "id": "7a99476c",
   "metadata": {},
   "outputs": [],
   "source": [
    "Connexion.ouvrir() # ouvrir la bdd\n",
    "Connexion.import_csv('./CSV_2DB/genres.csv', \"genres\") # import des valeurs du csv dans la bdd\n",
    "Connexion.fermer() # fermer la bdd"
   ]
  },
  {
   "cell_type": "markdown",
   "id": "49f74e3c",
   "metadata": {},
   "source": [
    "## Extraction \"Publisher\" vers un CSV"
   ]
  },
  {
   "cell_type": "code",
   "execution_count": 4,
   "id": "6bee4143",
   "metadata": {},
   "outputs": [],
   "source": [
    "editeur = data[\"Publisher\"].unique() # Extraction des valeurs console unique\n",
    "editeur = [x for x in editeur if str(x) != 'nan'] \n",
    "editeur = np.sort(editeur) # Trie des valeurs"
   ]
  },
  {
   "cell_type": "code",
   "execution_count": 7,
   "id": "f1f3170d",
   "metadata": {},
   "outputs": [],
   "source": [
    "editeur = pd.Series(editeur, name=\"nom_editeur\") # conversion de array en Serie\n",
    "editeur.index += 1 # incrementation de l'index pour commencer à 1\n",
    "editeur = editeur.apply(lambda x: x.replace(',','-'))\n",
    "editeur.to_csv(\"./CSV_2DB/editeurs.csv\", index=True, header=True) # Export de la table en csv"
   ]
  },
  {
   "cell_type": "code",
   "execution_count": 8,
   "id": "af57ec9c",
   "metadata": {},
   "outputs": [],
   "source": [
    "Connexion.ouvrir() # ouverture de la bdd\n",
    "Connexion.import_csv('./CSV_2DB/editeurs.csv', \"editeurs\") # importation des valeurs du csv dans la bdd\n",
    "Connexion.fermer() # fermeture de la bdd"
   ]
  },
  {
   "cell_type": "code",
   "execution_count": 35,
   "id": "008d4ee1",
   "metadata": {},
   "outputs": [],
   "source": [
    "editeur_kv = dict((k, v) for v, k in enumerate(editeur, 1)) # mise des données sous forme de dictionnaire"
   ]
  },
  {
   "cell_type": "code",
   "execution_count": 37,
   "id": "59c35fb9",
   "metadata": {},
   "outputs": [],
   "source": [
    "jeux[\"Publisher\"] = jeux[\"Publisher\"].replace(editeur_kv).astype(\"str\") # Remplacement des editeurs par leurs indice dans la matrice jeux"
   ]
  },
  {
   "cell_type": "markdown",
   "id": "7491b4c5",
   "metadata": {},
   "source": [
    "# Préparation du CSV jeux pour la table jeux"
   ]
  },
  {
   "cell_type": "code",
   "execution_count": 38,
   "id": "57c09473",
   "metadata": {},
   "outputs": [],
   "source": [
    "jeux = jeux.drop(columns=[\"Rank\"]) # Suppression de la colonne Rank"
   ]
  },
  {
   "cell_type": "code",
   "execution_count": 39,
   "id": "d316d627",
   "metadata": {},
   "outputs": [],
   "source": [
    "jeux = jeux[[\"Name\", \"NA_Sales\", \"EU_Sales\", \"JP_Sales\", \"Other_Sales\", \"Global_Sales\", \"Year\", \"Platform\", \"Genre\", \"Publisher\"]] # Réorganisation des colonnes\n",
    "# Changement des noms des colonnes\n",
    "jeux = jeux.rename(columns={\"Name\" : \"nom_jeu\", \"NA_Sales\" : \"na_vente_jeu\", \"EU_Sales\" : \"eu_vente_jeu\", \"JP_Sales\" : \"jp_vente_jeu\", \"Other_Sales\" : \"autre_vente_jeu\", \"Global_Sales\" : \"global_vente_jeu\", \"Year\" : \"id_calendrier\", \"Platform\" : \"id_console\", \"Genre\" : \"id_genre\", \"Publisher\" : \"id_editeur\"})"
   ]
  },
  {
   "cell_type": "code",
   "execution_count": 40,
   "id": "5e8d5a5e",
   "metadata": {},
   "outputs": [],
   "source": [
    "jeux.index += 1 # Incrémentation de l'index pour commencer à 1\n",
    "jeux.to_csv(\"./CSV_2DB/jeux.csv\", index=True, header=True) # Export en CSV en gardant l'entête"
   ]
  },
  {
   "cell_type": "code",
   "execution_count": 41,
   "id": "1d1d688c",
   "metadata": {},
   "outputs": [],
   "source": [
    "Connexion.ouvrir() # Ouverture de la bdd\n",
    "Connexion.import_csv('./CSV_2DB/jeux.csv', \"jeux\") # importation des valeurs du fichier csv directement dans la base de données\n",
    "Connexion.fermer() # fermeture de la bdd"
   ]
  },
  {
   "cell_type": "markdown",
   "id": "de200fd0",
   "metadata": {},
   "source": [
    "# Création des clefs étrangères"
   ]
  },
  {
   "cell_type": "code",
   "execution_count": 45,
   "id": "5418e9c9",
   "metadata": {},
   "outputs": [],
   "source": [
    "Connexion.ouvrir()"
   ]
  },
  {
   "cell_type": "code",
   "execution_count": 46,
   "id": "da0d3e46",
   "metadata": {},
   "outputs": [
    {
     "data": {
      "text/plain": [
       "[]"
      ]
     },
     "execution_count": 46,
     "metadata": {},
     "output_type": "execute_result"
    }
   ],
   "source": [
    "query = \"ALTER TABLE `JEUX` ADD FOREIGN KEY (`id_genre`) REFERENCES `GENRES` (`id_genre`);\"\n",
    "Connexion.execute(query)"
   ]
  },
  {
   "cell_type": "code",
   "execution_count": 47,
   "id": "7566c944",
   "metadata": {},
   "outputs": [
    {
     "data": {
      "text/plain": [
       "[]"
      ]
     },
     "execution_count": 47,
     "metadata": {},
     "output_type": "execute_result"
    }
   ],
   "source": [
    "query = \"ALTER TABLE `JEUX` ADD FOREIGN KEY (`id_console`) REFERENCES `CONSOLES` (`id_console`);\"\n",
    "Connexion.execute(query)"
   ]
  },
  {
   "cell_type": "code",
   "execution_count": 48,
   "id": "f2ffa7d8",
   "metadata": {},
   "outputs": [
    {
     "data": {
      "text/plain": [
       "[]"
      ]
     },
     "execution_count": 48,
     "metadata": {},
     "output_type": "execute_result"
    }
   ],
   "source": [
    "query = \"ALTER TABLE `JEUX` ADD FOREIGN KEY (`id_calendrier`) REFERENCES `CALENDRIER` (`id_calendrier`);\"\n",
    "Connexion.execute(query)"
   ]
  },
  {
   "cell_type": "code",
   "execution_count": 9,
   "id": "5efa9b39",
   "metadata": {},
   "outputs": [
    {
     "ename": "AttributeError",
     "evalue": "'NoneType' object has no attribute 'execute'",
     "output_type": "error",
     "traceback": [
      "\u001b[1;31m---------------------------------------------------------------------------\u001b[0m",
      "\u001b[1;31mAttributeError\u001b[0m                            Traceback (most recent call last)",
      "\u001b[1;32mC:\\Users\\UTILIS~1\\AppData\\Local\\Temp/ipykernel_1500/101992104.py\u001b[0m in \u001b[0;36m<module>\u001b[1;34m\u001b[0m\n\u001b[0;32m      1\u001b[0m \u001b[0mquery\u001b[0m \u001b[1;33m=\u001b[0m \u001b[1;34m\"ALTER TABLE `JEUX` ADD FOREIGN KEY (`id_editeur`) REFERENCES `EDITEURS` (`id_editeur`);\"\u001b[0m\u001b[1;33m\u001b[0m\u001b[1;33m\u001b[0m\u001b[0m\n\u001b[1;32m----> 2\u001b[1;33m \u001b[0mConnexion\u001b[0m\u001b[1;33m.\u001b[0m\u001b[0mexecute\u001b[0m\u001b[1;33m(\u001b[0m\u001b[0mquery\u001b[0m\u001b[1;33m)\u001b[0m\u001b[1;33m\u001b[0m\u001b[1;33m\u001b[0m\u001b[0m\n\u001b[0m",
      "\u001b[1;32m~\\Documents\\microsoft_ia\\Projets\\CSOB\\connexion.py\u001b[0m in \u001b[0;36mexecute\u001b[1;34m(cls, query)\u001b[0m\n\u001b[0;32m     40\u001b[0m     \u001b[1;33m@\u001b[0m\u001b[0mclassmethod\u001b[0m\u001b[1;33m\u001b[0m\u001b[1;33m\u001b[0m\u001b[0m\n\u001b[0;32m     41\u001b[0m     \u001b[1;32mdef\u001b[0m \u001b[0mexecute\u001b[0m\u001b[1;33m(\u001b[0m\u001b[0mcls\u001b[0m\u001b[1;33m,\u001b[0m \u001b[0mquery\u001b[0m\u001b[1;33m)\u001b[0m\u001b[1;33m:\u001b[0m\u001b[1;33m\u001b[0m\u001b[1;33m\u001b[0m\u001b[0m\n\u001b[1;32m---> 42\u001b[1;33m         \u001b[0mcls\u001b[0m\u001b[1;33m.\u001b[0m\u001b[0m__cursor\u001b[0m\u001b[1;33m.\u001b[0m\u001b[0mexecute\u001b[0m\u001b[1;33m(\u001b[0m\u001b[0mquery\u001b[0m\u001b[1;33m)\u001b[0m\u001b[1;33m\u001b[0m\u001b[1;33m\u001b[0m\u001b[0m\n\u001b[0m\u001b[0;32m     43\u001b[0m         \u001b[1;32mif\u001b[0m \u001b[0mquery\u001b[0m\u001b[1;33m.\u001b[0m\u001b[0msplit\u001b[0m\u001b[1;33m(\u001b[0m\u001b[1;34m\" \"\u001b[0m\u001b[1;33m)\u001b[0m\u001b[1;33m[\u001b[0m\u001b[1;36m0\u001b[0m\u001b[1;33m]\u001b[0m \u001b[1;33m!=\u001b[0m \u001b[1;34m\"SELECT\"\u001b[0m\u001b[1;33m:\u001b[0m\u001b[1;33m\u001b[0m\u001b[1;33m\u001b[0m\u001b[0m\n\u001b[0;32m     44\u001b[0m             \u001b[0mcls\u001b[0m\u001b[1;33m.\u001b[0m\u001b[0m__bdd\u001b[0m\u001b[1;33m.\u001b[0m\u001b[0mcommit\u001b[0m\u001b[1;33m(\u001b[0m\u001b[1;33m)\u001b[0m\u001b[1;33m\u001b[0m\u001b[1;33m\u001b[0m\u001b[0m\n",
      "\u001b[1;31mAttributeError\u001b[0m: 'NoneType' object has no attribute 'execute'"
     ]
    }
   ],
   "source": [
    "query = \"ALTER TABLE `JEUX` ADD FOREIGN KEY (`id_editeur`) REFERENCES `EDITEURS` (`id_editeur`);\"\n",
    "Connexion.execute(query)"
   ]
  },
  {
   "cell_type": "code",
   "execution_count": 50,
   "id": "6f312a26",
   "metadata": {},
   "outputs": [],
   "source": [
    "Connexion.fermer()"
   ]
  },
  {
   "cell_type": "code",
   "execution_count": null,
   "id": "d83b5f67",
   "metadata": {},
   "outputs": [],
   "source": []
  }
 ],
 "metadata": {
  "kernelspec": {
   "display_name": "Python 3 (ipykernel)",
   "language": "python",
   "name": "python3"
  },
  "language_info": {
   "codemirror_mode": {
    "name": "ipython",
    "version": 3
   },
   "file_extension": ".py",
   "mimetype": "text/x-python",
   "name": "python",
   "nbconvert_exporter": "python",
   "pygments_lexer": "ipython3",
   "version": "3.9.7"
  },
  "toc-autonumbering": true,
  "toc-showcode": false,
  "toc-showmarkdowntxt": false
 },
 "nbformat": 4,
 "nbformat_minor": 5
}
